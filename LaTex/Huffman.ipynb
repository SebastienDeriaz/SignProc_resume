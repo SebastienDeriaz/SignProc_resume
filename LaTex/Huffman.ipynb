{
 "cells": [
  {
   "cell_type": "code",
   "execution_count": 72,
   "metadata": {},
   "outputs": [],
   "source": [
    "import numpy as np\n",
    "import matplotlib.pyplot as plt\n",
    "from operator import itemgetter"
   ]
  },
  {
   "cell_type": "code",
   "execution_count": 118,
   "metadata": {},
   "outputs": [
    {
     "name": "stdout",
     "output_type": "stream",
     "text": [
      "1.0\n",
      "[['L', 0.2], ['O', 0.2], ['A', 0.1], ['I', 0.1], ['M', 0.1], ['N', 0.1], ['P', 0.1], ['Y', 0.1]]\n"
     ]
    }
   ],
   "source": [
    "input_array = [\n",
    "    [\"L\", 0.2],\n",
    "    [\"O\", 0.2],\n",
    "    [\"A\", 0.1],\n",
    "    [\"I\", 0.1],\n",
    "    [\"M\", 0.1],\n",
    "    [\"N\", 0.1],\n",
    "    [\"P\", 0.1],\n",
    "    [\"Y\", 0.1]]\n",
    "print(np.sum([x[1] for x in input_array]))\n",
    "input_array.sort(key=itemgetter(1), reverse=True)\n",
    "\n",
    "print(input_array)"
   ]
  },
  {
   "cell_type": "code",
   "execution_count": 137,
   "metadata": {},
   "outputs": [
    {
     "name": "stdout",
     "output_type": "stream",
     "text": [
      "L          0.20   O          0.20   A          0.10   I          0.10   M          0.10   N          0.10   P          0.10   Y          0.10   \n",
      "P Y        0.20   L          0.20   O          0.20   A          0.10   I          0.10   M          0.10   N          0.10   \n",
      "P Y        0.20   M N        0.20   L          0.20   O          0.20   A          0.10   I          0.10   \n",
      "P Y        0.20   M N        0.20   A I        0.20   L          0.20   O          0.20   \n",
      "L O        0.40   P Y        0.20   M N        0.20   A I        0.20   \n",
      "M N A I    0.40   L O        0.40   P Y        0.20   \n",
      "L O P Y    0.60   M N A I    0.40   \n"
     ]
    },
    {
     "data": {
      "text/plain": [
       "'110'"
      ]
     },
     "execution_count": 137,
     "metadata": {},
     "output_type": "execute_result"
    }
   ],
   "source": [
    "arrays = [input_array]\n",
    "\n",
    "\n",
    "for iter in range(len(input_array)-2):\n",
    "    \n",
    "    key = \"\"\n",
    "    prob = 0\n",
    "    \n",
    "    arrays.append([])\n",
    "    for i, d in enumerate(arrays[-2]):\n",
    "        if i < len(input_array)-iter-2:\n",
    "            # Add everything except the last two elements\n",
    "            arrays[-1].append([d[0],d[1]])\n",
    "        else:\n",
    "            key += d[0] + \" \"\n",
    "            prob += d[1]            \n",
    "    arrays[-1].append([key[:-1],prob+1e-10])\n",
    "    arrays[-1].sort(key=itemgetter(1),reverse=True)\n",
    "\n",
    "def getCode(arr, symbol):\n",
    "    code = \"\"\n",
    "    for iter in arr:\n",
    "        # Go through the iterations\n",
    "        for i, el in enumerate(iter):\n",
    "            if(symbol in el[0]):\n",
    "                if i == len(iter)-1:\n",
    "                    # Last -> 0\n",
    "                    code += \"1\"\n",
    "                elif i == len(iter)-2:\n",
    "                    code += \"0\"\n",
    "                else:\n",
    "                    #do not add anything\n",
    "                    pass\n",
    "                break\n",
    "    return code[::-1]\n",
    "\n",
    "\n",
    "for a in arrays:\n",
    "    str = \"\"\n",
    "    for pair in a:\n",
    "        str += f\"{pair[0]:10s} {pair[1]:.2f}   \"    \n",
    "    print(str)\n",
    "\n",
    "getCode(arrays, 'A')\n",
    "\n",
    "\n",
    "\n",
    "\n"
   ]
  },
  {
   "cell_type": "code",
   "execution_count": null,
   "metadata": {},
   "outputs": [],
   "source": []
  }
 ],
 "metadata": {
  "interpreter": {
   "hash": "e612cabd9ada3079e63a69ec5390656d3fadbefecb3d83b95b27cda404d01981"
  },
  "kernelspec": {
   "display_name": "Python 3.9.5 64-bit",
   "language": "python",
   "name": "python3"
  },
  "language_info": {
   "codemirror_mode": {
    "name": "ipython",
    "version": 3
   },
   "file_extension": ".py",
   "mimetype": "text/x-python",
   "name": "python",
   "nbconvert_exporter": "python",
   "pygments_lexer": "ipython3",
   "version": "3.9.5"
  },
  "orig_nbformat": 4
 },
 "nbformat": 4,
 "nbformat_minor": 2
}
