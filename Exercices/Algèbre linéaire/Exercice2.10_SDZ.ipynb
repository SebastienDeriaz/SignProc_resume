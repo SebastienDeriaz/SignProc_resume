{
 "cells": [
  {
   "cell_type": "markdown",
   "metadata": {},
   "source": [
    "![picture 1](c7b02b7fe5a005c71ea639bfb80a8f7fa898a97ac5047b7f3bbb47a2c1436494.png)  \n"
   ]
  },
  {
   "cell_type": "markdown",
   "metadata": {},
   "source": [
    "## (a)\n",
    "\n",
    "$$(a-\\lambda)^2-b^2=0$$\n",
    "$$(a-\\lambda)^2=b^2$$\n",
    "$$a-\\lambda=\\pm b$$\n",
    "$$\\boxed{\\lambda=\\pm b+a}$$\n",
    "\n",
    "## (b)\n",
    "\n",
    "$$(a-\\lambda)^2-bb^\\ast=0$$\n",
    "$$(a-\\lambda)^2=bb^\\ast$$\n",
    "$$a-\\lambda=\\pm\\sqrt{\\delta^2+\\delta\\gamma-\\delta\\gamma-\\gamma^2j^2}=\\pm\\sqrt{\\delta^2+\\gamma^2}$$\n",
    "$$\\boxed{\\lambda=a\\pm\\sqrt{\\delta^2+\\gamma^2}}$$"
   ]
  }
 ],
 "metadata": {
  "language_info": {
   "name": "python"
  },
  "orig_nbformat": 4
 },
 "nbformat": 4,
 "nbformat_minor": 2
}
