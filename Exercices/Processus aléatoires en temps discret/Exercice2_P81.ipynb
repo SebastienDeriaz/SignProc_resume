{
 "cells": [
  {
   "cell_type": "markdown",
   "metadata": {},
   "source": [
    "![picture 2](f911e371bde6ff1389ee0adb85bf3fd8e16eb3bb12e9dc0138d26cacab33bb93.png)  \n"
   ]
  },
  {
   "cell_type": "markdown",
   "metadata": {},
   "source": [
    "## Moyenne"
   ]
  },
  {
   "cell_type": "markdown",
   "metadata": {},
   "source": [
    "$$\\Large m(y)=\\underbrace{E\\lbrace x\\rbrace}_0+ f(n)=f(n)$$\n",
    "\n",
    "On ne calcule pas la moyenne de $f$ car c'est déterministe"
   ]
  },
  {
   "cell_type": "markdown",
   "metadata": {},
   "source": [
    "## Autocorrélation\n",
    "\n",
    "$$r_y(k,l)=E\\lbrace y(k)y(l)^\\ast\\rbrace=r_x(k,l)+r_w(k,l)=r_x(k,l)+f(k)f(l)$$"
   ]
  }
 ],
 "metadata": {
  "interpreter": {
   "hash": "06a6858702f229212a45149ce6c1ba73d7326b5afdeebebe8324a7c067d664c2"
  },
  "kernelspec": {
   "display_name": "Python 3.10.0 64-bit",
   "language": "python",
   "name": "python3"
  },
  "language_info": {
   "codemirror_mode": {
    "name": "ipython",
    "version": 3
   },
   "file_extension": ".py",
   "mimetype": "text/x-python",
   "name": "python",
   "nbconvert_exporter": "python",
   "pygments_lexer": "ipython3",
   "version": "3.10.0"
  },
  "orig_nbformat": 4
 },
 "nbformat": 4,
 "nbformat_minor": 2
}
