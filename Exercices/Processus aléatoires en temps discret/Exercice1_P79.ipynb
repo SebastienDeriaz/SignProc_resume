{
 "cells": [
  {
   "cell_type": "markdown",
   "metadata": {},
   "source": [
    "![picture 1](4695ea40c18f7cbd34827b748df1cbc51846e035834eba8388216e46942cf229.png)\n"
   ]
  },
  {
   "cell_type": "markdown",
   "metadata": {},
   "source": [
    "Voir solution P. 80"
   ]
  }
 ],
 "metadata": {
  "language_info": {
   "name": "python"
  },
  "orig_nbformat": 4
 },
 "nbformat": 4,
 "nbformat_minor": 2
}
